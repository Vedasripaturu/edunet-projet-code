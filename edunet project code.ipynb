{
  "cells": [
    {
      "cell_type": "code",
      "execution_count": 1,
      "metadata": {
        "id": "oxABXUK5RTaW"
      },
      "outputs": [],
      "source": [
        "import warnings\n",
        "warnings.filterwarnings('ignore')\n"
      ]
    },
    {
      "cell_type": "code",
      "execution_count": 4,
      "metadata": {
        "colab": {
          "base_uri": "https://localhost:8080/"
        },
        "id": "cuu8Po-nV1aK",
        "outputId": "9ca9a943-7f6f-4ac6-aa22-d196feab6ace"
      },
      "outputs": [
        {
          "ename": "ModuleNotFoundError",
          "evalue": "No module named 'pandas'",
          "output_type": "error",
          "traceback": [
            "\u001b[1;31m---------------------------------------------------------------------------\u001b[0m",
            "\u001b[1;31mModuleNotFoundError\u001b[0m                       Traceback (most recent call last)",
            "Cell \u001b[1;32mIn[4], line 1\u001b[0m\n\u001b[1;32m----> 1\u001b[0m \u001b[39mimport\u001b[39;00m \u001b[39mpandas\u001b[39;00m \u001b[39mas\u001b[39;00m \u001b[39mpd\u001b[39;00m\n\u001b[0;32m      2\u001b[0m \u001b[39mimport\u001b[39;00m \u001b[39mnumpy\u001b[39;00m \u001b[39mas\u001b[39;00m \u001b[39mnp\u001b[39;00m\n\u001b[0;32m      3\u001b[0m \u001b[39mimport\u001b[39;00m \u001b[39mseaborn\u001b[39;00m \u001b[39mas\u001b[39;00m \u001b[39msns\u001b[39;00m\n",
            "\u001b[1;31mModuleNotFoundError\u001b[0m: No module named 'pandas'"
          ]
        }
      ],
      "source": [
        "import pandas as pd\n",
        "import numpy as np\n",
        "import seaborn as sns\n",
        "import matplotlib.pyplot as plt\n",
        "import plotly.express as px"
      ]
    },
    {
      "cell_type": "code",
      "execution_count": 5,
      "metadata": {
        "colab": {
          "base_uri": "https://localhost:8080/",
          "height": 485
        },
        "id": "_8OoGD-Pgbhq",
        "outputId": "3363b093-5c6c-4cf7-ec6c-d483d37f7a8e"
      },
      "outputs": [
        {
          "ename": "ModuleNotFoundError",
          "evalue": "No module named 'pandas'",
          "output_type": "error",
          "traceback": [
            "\u001b[1;31m---------------------------------------------------------------------------\u001b[0m",
            "\u001b[1;31mModuleNotFoundError\u001b[0m                       Traceback (most recent call last)",
            "Cell \u001b[1;32mIn[5], line 1\u001b[0m\n\u001b[1;32m----> 1\u001b[0m \u001b[39mimport\u001b[39;00m \u001b[39mpandas\u001b[39;00m \u001b[39mas\u001b[39;00m \u001b[39mpd\u001b[39;00m\n\u001b[0;32m      2\u001b[0m pd\u001b[39m.\u001b[39mset_option(\u001b[39m'\u001b[39m\u001b[39mdisplay.max_columns\u001b[39m\u001b[39m'\u001b[39m,\u001b[39mNone\u001b[39;00m)\n\u001b[0;32m      3\u001b[0m burnoutDf\u001b[39m=\u001b[39mpd\u001b[39m.\u001b[39mread_csv(\u001b[39m'\u001b[39m\u001b[39mE:\u001b[39m\u001b[39m\\\u001b[39m\u001b[39mCOLLEGE\u001b[39m\u001b[39m\\\u001b[39m\u001b[39mINTERNSHIP DOCUMENTATION\u001b[39m\u001b[39m\\\u001b[39m\u001b[39mAPSCHE-LMS\u001b[39m\u001b[39m\\\u001b[39m\u001b[39mEMPLOYEE BURN OUT ANALYSIS\u001b[39m\u001b[39m\\\u001b[39m\u001b[39mDATA SET.csv\u001b[39m\u001b[39m'\u001b[39m)\n",
            "\u001b[1;31mModuleNotFoundError\u001b[0m: No module named 'pandas'"
          ]
        }
      ],
      "source": [
        "import pandas as pd\n",
        "pd.set_option('display.max_columns',None)\n",
        "burnoutDf=pd.read_csv('E:\\COLLEGE\\INTERNSHIP DOCUMENTATION\\APSCHE-LMS\\EMPLOYEE BURN OUT ANALYSIS\\DATA SET.csv')\n",
        "burnoutDf"
      ]
    },
    {
      "cell_type": "code",
      "execution_count": null,
      "metadata": {
        "id": "HvXV9LRyvzBp"
      },
      "outputs": [],
      "source": [
        "# convert into datetime datatype\n",
        "burnoutDf[\"Date of Joining\"]=pd.to_datetime(burnoutDf[\"Date of Joining\"])"
      ]
    },
    {
      "cell_type": "code",
      "execution_count": null,
      "metadata": {
        "colab": {
          "base_uri": "https://localhost:8080/"
        },
        "id": "klPB8-hTw37m",
        "outputId": "2661aa54-098a-4e03-c907-bd1dad46df30"
      },
      "outputs": [],
      "source": [
        "# give the number of rows and columns\n",
        "burnoutDf.shape"
      ]
    },
    {
      "cell_type": "code",
      "execution_count": null,
      "metadata": {
        "colab": {
          "base_uri": "https://localhost:8080/"
        },
        "id": "-wCp7eI7xM3t",
        "outputId": "48059e29-2727-4d88-a949-4ff0da754096"
      },
      "outputs": [],
      "source": [
        "# general information\n",
        "burnoutDf.info()"
      ]
    },
    {
      "cell_type": "code",
      "execution_count": null,
      "metadata": {
        "colab": {
          "base_uri": "https://localhost:8080/",
          "height": 267
        },
        "id": "iNkD1BEvx2Wn",
        "outputId": "f41e6baa-e01a-4f6d-a4ad-85ae4513a3f6"
      },
      "outputs": [],
      "source": [
        "# show top 5 rows\n",
        "burnoutDf.head()"
      ]
    },
    {
      "cell_type": "code",
      "execution_count": null,
      "metadata": {
        "colab": {
          "base_uri": "https://localhost:8080/"
        },
        "id": "fEXFE1JYyooS",
        "outputId": "9888a769-97e0-44b8-94f2-f77fdf43c1e4"
      },
      "outputs": [],
      "source": [
        "# extract all columns of the datast\n",
        "burnoutDf.columns"
      ]
    },
    {
      "cell_type": "code",
      "execution_count": null,
      "metadata": {
        "colab": {
          "base_uri": "https://localhost:8080/"
        },
        "id": "P9iTDIYjy3ZF",
        "outputId": "8b99ff2e-5f7c-41e9-bf50-34b450685786"
      },
      "outputs": [],
      "source": [
        "# check for null values\n",
        "burnoutDf.isna().sum()"
      ]
    },
    {
      "cell_type": "code",
      "execution_count": null,
      "metadata": {
        "colab": {
          "base_uri": "https://localhost:8080/"
        },
        "id": "xIMHzqOT0BQF",
        "outputId": "f6f752d4-4dee-47e4-9ebf-a99060a7269a"
      },
      "outputs": [],
      "source": [
        "# check the duplicate values\n",
        "burnoutDf.duplicated().sum()"
      ]
    },
    {
      "cell_type": "code",
      "execution_count": null,
      "metadata": {
        "colab": {
          "base_uri": "https://localhost:8080/",
          "height": 300
        },
        "id": "HRYdaY5f0SK1",
        "outputId": "de5991d8-694c-4985-bdfa-090eeb236e38"
      },
      "outputs": [],
      "source": [
        "#calclate the mean, std, min, max and count of every attributes\n",
        "burnoutDf.describe()"
      ]
    },
    {
      "cell_type": "code",
      "execution_count": null,
      "metadata": {
        "colab": {
          "base_uri": "https://localhost:8080/"
        },
        "id": "lWVTbtPA1Dax",
        "outputId": "1629b67f-9669-4644-d11f-810eef941a60"
      },
      "outputs": [],
      "source": [
        "# show the unique values\n",
        "for i, col in enumerate(burnoutDf.columns):\n",
        "  print(f\"\\n\\n{burnoutDf[col].unique()}\")\n",
        "  print(f\"\\n{burnoutDf[col].value_counts()}\\n\\n\")"
      ]
    },
    {
      "cell_type": "code",
      "execution_count": null,
      "metadata": {
        "id": "9QodgFDc3ZfD"
      },
      "outputs": [],
      "source": [
        "# Drop irrelavent column\n",
        "burnoutDf=burnoutDf.drop([\"Employee ID\"],axis=1)"
      ]
    },
    {
      "cell_type": "code",
      "execution_count": null,
      "metadata": {
        "colab": {
          "base_uri": "https://localhost:8080/"
        },
        "id": "YtTh9EYN4_3e",
        "outputId": "e759c367-b4e6-4824-87b9-a6a127b85916"
      },
      "outputs": [],
      "source": [
        "# check the skewness of the attributes\n",
        "intFloatburnoutDf= burnoutDf.select_dtypes([np.int, np.float])\n",
        "for i, col in enumerate(intFloatburnoutDf.columns):\n",
        "  if (intFloatburnoutDf[col].skew() >= 0.1):\n",
        "    print(\"\\n\",col, \"feature is positively skewed and value is: \",intFloatburnoutDf[col].skew())\n",
        "  elif (intFloatburnoutDf[col].skew() <= -0.1):\n",
        "    print(\"\\n\",col, \"feature is negatively skewed and value is: \",intFloatburnoutDf[col].skew())\n",
        "  else:\n",
        "    print(\"\\n\",col, \"feature is normally distributed and value is: \",intFloatburnoutDf[col].skew())"
      ]
    },
    {
      "cell_type": "code",
      "execution_count": null,
      "metadata": {
        "id": "RcDQ8A4h820c"
      },
      "outputs": [],
      "source": [
        "# Replace the null values with mean\n",
        "burnoutDf['Resource Allocation'].fillna(burnoutDf['Resource Allocation'].mean(),inplace=True)\n",
        "burnoutDf['Mental Fatigue Score'].fillna(burnoutDf['Mental Fatigue Score'].mean(),inplace=True)\n",
        "burnoutDf['Burn Rate'].fillna(burnoutDf['Burn Rate'].mean(),inplace=True)"
      ]
    },
    {
      "cell_type": "code",
      "execution_count": null,
      "metadata": {
        "colab": {
          "base_uri": "https://localhost:8080/"
        },
        "id": "VtT6XTuhuSuU",
        "outputId": "08e51c9f-864f-46ff-ce3e-d942e03e6545"
      },
      "outputs": [],
      "source": [
        "# check for null values\n",
        "burnoutDf.isna().sum()"
      ]
    },
    {
      "cell_type": "code",
      "execution_count": null,
      "metadata": {
        "colab": {
          "base_uri": "https://localhost:8080/",
          "height": 175
        },
        "id": "LGBynlsCvyqy",
        "outputId": "6ceef4d9-d5e8-4e18-a450-b0474f012e9c"
      },
      "outputs": [],
      "source": [
        "\n",
        "burnoutDf.corr()"
      ]
    },
    {
      "cell_type": "code",
      "execution_count": null,
      "metadata": {
        "colab": {
          "base_uri": "https://localhost:8080/",
          "height": 542
        },
        "id": "eiu7LcivwfrW",
        "outputId": "08b288ed-ac52-4bea-fe77-f38507fa74df"
      },
      "outputs": [],
      "source": [
        "# plotting Heat up to check Correlation\n",
        "corr=burnoutDf.corr()\n",
        "sns.set(rc={'figure.figsize':(14,12)})\n",
        "fig = px.imshow(corr,text_auto=True,aspect=\"auto\")\n",
        "fig.show()"
      ]
    },
    {
      "cell_type": "code",
      "execution_count": null,
      "metadata": {
        "colab": {
          "base_uri": "https://localhost:8080/",
          "height": 727
        },
        "id": "4q_-r0NBx8qt",
        "outputId": "b8087c69-f77d-4428-ba55-53e764eb3f8e"
      },
      "outputs": [],
      "source": [
        "plt.figure(figsize=(10,8))\n",
        "sns.countplot(x=\"Gender\",data=burnoutDf,palette=\"magma\")\n",
        "plt.title(\"Plot Distribution of Gender\")\n",
        "plt.show()"
      ]
    },
    {
      "cell_type": "code",
      "execution_count": null,
      "metadata": {
        "colab": {
          "base_uri": "https://localhost:8080/",
          "height": 727
        },
        "id": "zYiUcnNV0mei",
        "outputId": "f81dd759-bbdb-45ec-e276-562a31e44e38"
      },
      "outputs": [],
      "source": [
        "#count plot distribution of \"Company Type\"\n",
        "plt.figure(figsize=(10,8))\n",
        "sns.countplot(x=\"Company Type\", data=burnoutDf,palette=\"Spectral\")\n",
        "plt.title(\"Plot Distribution of Company Type\")\n",
        "plt.show()"
      ]
    },
    {
      "cell_type": "code",
      "execution_count": null,
      "metadata": {
        "colab": {
          "base_uri": "https://localhost:8080/",
          "height": 727
        },
        "id": "-fA_SY4h4UKR",
        "outputId": "f6ca2638-2158-449f-dfd3-ddd575e0c6ad"
      },
      "outputs": [],
      "source": [
        "#count plot distribution of \"WFH Setup Available\"\n",
        "plt.figure(figsize=(10,8))\n",
        "sns.countplot(x=\"WFH Setup Available\", data=burnoutDf, palette=\"dark:salmon_r\")\n",
        "plt.title(\"Plot Distribution of WFH_Setup_Available\")\n",
        "plt.show()"
      ]
    },
    {
      "cell_type": "code",
      "execution_count": null,
      "metadata": {
        "colab": {
          "base_uri": "https://localhost:8080/",
          "height": 1000
        },
        "id": "YZOrN4Fg9hC_",
        "outputId": "da219b65-9146-4a9f-d206-76a601c274e3"
      },
      "outputs": [],
      "source": [
        "# count plot Distribution of attributes with the help of Histogram\n",
        "burn_st=burnoutDf.loc[:,\"Date of Joining\":\"Burn Rate\"]\n",
        "burn_st=burn_st.select_dtypes([int, float])\n",
        "for i, col in enumerate(burn_st.columns):\n",
        "  fig =px.histogram(burn_st, x=col, title=\"plot Distribution of\"+col, color_discrete_sequence=['indianred'])\n",
        "  fig.update_layout(bargap=0.2)\n",
        "  fig.show()"
      ]
    },
    {
      "cell_type": "code",
      "execution_count": null,
      "metadata": {
        "colab": {
          "base_uri": "https://localhost:8080/",
          "height": 542
        },
        "id": "RHGjZxrLAgbx",
        "outputId": "17002cc9-f4fa-41d0-e34c-3b9940444b56"
      },
      "outputs": [],
      "source": [
        "# plot distribution of Burn rate on the basis of Designation\n",
        "fig = px.line(burnoutDf, y=\"Burn Rate\", color=\"Designation\", title=\"Burn rate in the basis of Designation\", color_discrete_sequence=px.colors.qualitative.Pastel1)\n",
        "fig.update_layout(bargap=0.1)\n",
        "fig.show()"
      ]
    },
    {
      "cell_type": "code",
      "execution_count": null,
      "metadata": {
        "colab": {
          "base_uri": "https://localhost:8080/",
          "height": 542
        },
        "id": "bKssEnQlDrY_",
        "outputId": "b0aef6b1-2cfe-4d22-a3cf-05a2cc5cfe1f"
      },
      "outputs": [],
      "source": [
        "# plot distribution of Burn rate on the basis of Gender\n",
        "fig = px.line(burnoutDf, y=\"Burn Rate\", color=\"Gender\", title=\"Burn rate in the basis of gender\", color_discrete_sequence=px.colors.qualitative.Pastel1)\n",
        "fig.update_layout(bargap=0.2)\n",
        "fig.show()"
      ]
    },
    {
      "cell_type": "code",
      "execution_count": null,
      "metadata": {
        "colab": {
          "base_uri": "https://localhost:8080/",
          "height": 542
        },
        "id": "qo61awIDE34O",
        "outputId": "f82e74c5-bc4e-43a7-ba67-17eafe677808"
      },
      "outputs": [],
      "source": [
        "# plot distribution of mental fatigue score on the basis of Designataion\n",
        "fig = px.line(burnoutDf, y=\"Mental Fatigue Score\", color=\"Designation\", title=\"Mental Fatigue vs Designation\", color_discrete_sequence=px.colors.qualitative.Pastel1)\n",
        "fig.update_layout(bargap=0.2)\n",
        "fig.show()"
      ]
    },
    {
      "cell_type": "code",
      "execution_count": null,
      "metadata": {
        "colab": {
          "base_uri": "https://localhost:8080/",
          "height": 510
        },
        "id": "-B_0g-iCFkWI",
        "outputId": "a7efe0f2-211e-4595-b86d-8ee71348527d"
      },
      "outputs": [],
      "source": [
        "# plot Distribution of \"Designation vs mental fatigue\" as per Company type , Burn rate and Gender\n",
        "sns.relplot(\n",
        "    data=burnoutDf, x=\"Designation\",y=\"Mental Fatigue Score\", col=\"Company Type\",\n",
        "    hue=\"Company Type\",size=\"Burn Rate\", style=\"Gender\",\n",
        "    palette=[\"g\",\"r\"], sizes=(50,200)\n",
        ")"
      ]
    },
    {
      "cell_type": "code",
      "execution_count": null,
      "metadata": {
        "id": "VP7w8rN2HeG9"
      },
      "outputs": [],
      "source": [
        "# label encoding and assign in new variable\n",
        "from sklearn import preprocessing\n",
        "label_encode = preprocessing.LabelEncoder()"
      ]
    },
    {
      "cell_type": "code",
      "execution_count": null,
      "metadata": {
        "id": "F8uWsio-IrzJ"
      },
      "outputs": [],
      "source": [
        "# Assugn in new variable\n",
        "burnoutDf['Genderlabel'] = label_encode.fit_transform(burnoutDf['Gender'].values)\n",
        "burnoutDf['Company_typelabel'] = label_encode.fit_transform(burnoutDf['Company Type'].values)\n",
        "burnoutDf['WFH_Setup_Available'] = label_encode.fit_transform(burnoutDf['WFH Setup Available'].values)"
      ]
    },
    {
      "cell_type": "code",
      "execution_count": null,
      "metadata": {
        "colab": {
          "base_uri": "https://localhost:8080/"
        },
        "id": "PpneYjjEJ7qV",
        "outputId": "ddb76992-20a9-44d1-deee-f6baf76475e9"
      },
      "outputs": [],
      "source": [
        "# check assigned values\n",
        "gn = burnoutDf.groupby('Gender')\n",
        "gn = gn['Genderlabel']\n",
        "gn.first()"
      ]
    },
    {
      "cell_type": "code",
      "execution_count": null,
      "metadata": {
        "colab": {
          "base_uri": "https://localhost:8080/"
        },
        "id": "Uk-qazLbKczF",
        "outputId": "7d0dcb35-bc62-4eee-c087-4e0b0d1ecec4"
      },
      "outputs": [],
      "source": [
        "# check assigned values\n",
        "ct = burnoutDf.groupby('Company Type')\n",
        "ct = ct['Company_typelabel']\n",
        "ct.first()"
      ]
    },
    {
      "cell_type": "code",
      "execution_count": null,
      "metadata": {
        "colab": {
          "base_uri": "https://localhost:8080/"
        },
        "id": "GVzKQVCAMH59",
        "outputId": "35fdd618-7720-439b-9b87-eb086b51be3f"
      },
      "outputs": [],
      "source": [
        "# check assigned values\n",
        "wsa = burnoutDf.groupby('WFH Setup Available')\n",
        "wsa = wsa['WFH Setup Available']\n",
        "wsa.first()"
      ]
    },
    {
      "cell_type": "code",
      "execution_count": null,
      "metadata": {
        "colab": {
          "base_uri": "https://localhost:8080/",
          "height": 615
        },
        "id": "pZmPraYiWrw2",
        "outputId": "2eb38cce-415c-4b45-82ab-3868c87be6be"
      },
      "outputs": [],
      "source": [
        "# show last 10 rows\n",
        "burnoutDf.tail(10)"
      ]
    },
    {
      "cell_type": "code",
      "execution_count": null,
      "metadata": {
        "id": "LfbzfclqXFU6"
      },
      "outputs": [],
      "source": [
        "# feature selection\n",
        "Columns=['Designation','Resource Allocation','Mental Fatigue Score',\n",
        "         'Genderlabel','Company_typelabel','WFH_Setup_Available']\n",
        "x=burnoutDf[Columns]\n",
        "y=burnoutDf['Burn Rate']"
      ]
    },
    {
      "cell_type": "code",
      "execution_count": null,
      "metadata": {
        "colab": {
          "base_uri": "https://localhost:8080/"
        },
        "id": "AFCni1HxYXcs",
        "outputId": "94a6e2e1-52d5-4d94-a64d-902ee8912658"
      },
      "outputs": [],
      "source": [
        "print(x)"
      ]
    },
    {
      "cell_type": "code",
      "execution_count": null,
      "metadata": {
        "colab": {
          "base_uri": "https://localhost:8080/"
        },
        "id": "smaMe8HVYnvV",
        "outputId": "61ed301e-f132-481e-b879-8559f31f87a5"
      },
      "outputs": [],
      "source": [
        "print(y)"
      ]
    },
    {
      "cell_type": "code",
      "execution_count": null,
      "metadata": {
        "colab": {
          "base_uri": "https://localhost:8080/"
        },
        "id": "N1rrbfpr-hK9",
        "outputId": "282ca831-0b32-45d0-d310-2d3b242b35ae"
      },
      "outputs": [],
      "source": [
        "\n",
        "# Principle component Analysis\n",
        "from sklearn.decomposition import PCA\n",
        "pca = PCA(0.95)\n",
        "x_pca = pca.fit_transform(x)\n",
        "print(\"PCA shape of x is:\",x_pca.shape, \"and original shape is:\", x.shape)\n",
        "print(\"% of importance of selected features is:\",pca.explained_variance_ratio_)\n",
        "print(\"The number of features selected through PCA is:\",pca.n_components_)"
      ]
    },
    {
      "cell_type": "code",
      "execution_count": null,
      "metadata": {
        "id": "wOkCqNqTPwem"
      },
      "outputs": [],
      "source": [
        "# Data Splitting in train and test\n",
        "from sklearn.model_selection import train_test_split\n",
        "X_train_pca, X_test, Y_train,Y_test = train_test_split(x_pca,y, test_size = 0.25, random_state=10)"
      ]
    },
    {
      "cell_type": "code",
      "execution_count": null,
      "metadata": {
        "colab": {
          "base_uri": "https://localhost:8080/"
        },
        "id": "BMJSyZh_TWnD",
        "outputId": "800494d0-eef2-481e-9ecc-2afa965ca6f9"
      },
      "outputs": [],
      "source": [
        "# print the shape of splitted data\n",
        "print(X_train_pca.shape, X_test.shape, Y_train.shape, Y_test.shape)"
      ]
    },
    {
      "cell_type": "code",
      "execution_count": null,
      "metadata": {
        "id": "3lznI8o7UEnj"
      },
      "outputs": [],
      "source": [
        "from sklearn.metrics import r2_score"
      ]
    },
    {
      "cell_type": "code",
      "execution_count": null,
      "metadata": {
        "colab": {
          "base_uri": "https://localhost:8080/"
        },
        "id": "Vy_hl9UvVmAC",
        "outputId": "ba461c45-b907-4d01-c6fb-58b06d924197"
      },
      "outputs": [],
      "source": [
        "# Random Forest regressor\n",
        "from sklearn.ensemble import RandomForestRegressor\n",
        "rf_model = RandomForestRegressor()\n",
        "rf_model.fit(X_train_pca, Y_train)\n",
        "train_pred_rf = rf_model.predict(X_train_pca)\n",
        "train_r2 = r2_score(Y_train, train_pred_rf)\n",
        "test_pred_rf = rf_model.predict(X_test)\n",
        "test_r2 = r2_score(Y_test, test_pred_rf)\n",
        "# Accuracy score\n",
        "print(\"Accuracy score of train data:\"+str(round(100*train_r2, 4))+\"%\")\n",
        "print(\"Accuracy score of test data:\"+str(round(100*test_r2, 4))+\"%\")"
      ]
    },
    {
      "cell_type": "code",
      "execution_count": null,
      "metadata": {
        "colab": {
          "base_uri": "https://localhost:8080/"
        },
        "id": "Ue4ni2hMYJ-N",
        "outputId": "b9df0cbb-999d-485f-d3c8-c285ae6d8102"
      },
      "outputs": [],
      "source": [
        "# AdaBoost regessor\n",
        "from sklearn.ensemble import AdaBoostRegressor\n",
        "abr_model = AdaBoostRegressor()\n",
        "abr_model.fit(X_train_pca, Y_train)\n",
        "train_pred_adboost = abr_model.predict(X_train_pca)\n",
        "train_r2 = r2_score(Y_train, train_pred_adboost)\n",
        "test_pred_adboost = abr_model.predict(X_test)\n",
        "test_r2 = r2_score(Y_test, test_pred_adboost)\n",
        "# Accuracy score\n",
        "print(\"Accuracy score of train data:\"+str(round(100*train_r2, 4))+\"%\")\n",
        "print(\"Accuracy score of test data:\"+str(round(100*test_r2, 4))+\"%\")"
      ]
    }
  ],
  "metadata": {
    "colab": {
      "provenance": []
    },
    "kernelspec": {
      "display_name": "Python 3",
      "name": "python3"
    },
    "language_info": {
      "codemirror_mode": {
        "name": "ipython",
        "version": 3
      },
      "file_extension": ".py",
      "mimetype": "text/x-python",
      "name": "python",
      "nbconvert_exporter": "python",
      "pygments_lexer": "ipython3",
      "version": "3.10.8"
    }
  },
  "nbformat": 4,
  "nbformat_minor": 0
}
